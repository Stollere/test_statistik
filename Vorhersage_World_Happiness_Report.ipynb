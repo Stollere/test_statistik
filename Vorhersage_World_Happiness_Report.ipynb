{
  "nbformat": 4,
  "nbformat_minor": 0,
  "metadata": {
    "colab": {
      "name": "Vorhersage World Happiness Report",
      "provenance": [],
      "collapsed_sections": [],
      "toc_visible": true,
      "include_colab_link": true
    },
    "kernelspec": {
      "name": "python3",
      "display_name": "Python 3"
    },
    "language_info": {
      "name": "python"
    }
  },
  "cells": [
    {
      "cell_type": "markdown",
      "metadata": {
        "id": "view-in-github",
        "colab_type": "text"
      },
      "source": [
        "<a href=\"https://colab.research.google.com/github/Stollere/test_statistik/blob/main/Vorhersage_World_Happiness_Report.ipynb\" target=\"_parent\"><img src=\"https://colab.research.google.com/assets/colab-badge.svg\" alt=\"Open In Colab\"/></a>"
      ]
    },
    {
      "cell_type": "markdown",
      "source": [
        "<p><img alt=\"WHR logo\" height=\"45px\" src=\"https://worldhappiness.report/assets/images/icons/whr-cover-ico.png\" align=\"left\" hspace=\"10px\" vspace=\"0px\"></p>\n",
        "\n",
        "<h1> Vorhersage des World Happiness Scores aus dem World Happiness Report </h1>\n",
        "\n",
        "KI & Big Data Projekt von Lena Gelfert (325223), Melanie Ramirez (315857) und Julissa Pappenscheller (346025)\n"
      ],
      "metadata": {
        "id": "Cz7Wfcgz-Oz2"
      }
    },
    {
      "cell_type": "markdown",
      "source": [
        "# Laden der Daten\n",
        "\n",
        "Bevor die Daten hochgeladen und anschließend gesäubert werden, wurden sie vorab in Excel überprüft. Dabei wurde kontrolliert, ob alle Dateien von 2015 bis einschließlich 2022 eine Spalte mit dem Ländernamen sowie eine Spalte mit dem Happiness Score enthalten, da diese Werte für die Zusammenführung der Dateien und die Vorhersage des World Happiness Scores essenziell sind."
      ],
      "metadata": {
        "id": "AM3OiElRIuSZ"
      }
    },
    {
      "cell_type": "markdown",
      "source": [
        "# Säubern der Daten"
      ],
      "metadata": {
        "id": "oqQWwhBiG9UR"
      }
    },
    {
      "cell_type": "code",
      "source": [
        "import pandas as pd"
      ],
      "metadata": {
        "id": "JYWum-8MYnWN"
      },
      "execution_count": 8,
      "outputs": []
    }
  ]
}